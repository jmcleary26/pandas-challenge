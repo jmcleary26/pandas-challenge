{
 "cells": [
  {
   "cell_type": "code",
   "execution_count": null,
   "metadata": {
    "scrolled": true
   },
   "outputs": [],
   "source": [
    "# Dependencies and Setup\n",
    "import os\n",
    "import pandas as pd\n",
    "\n",
    "# File to load \n",
    "file = os.path.join(\"Resources\", \"purchase_data.csv\")\n",
    "\n",
    "# Read Purchasing File and store into Pandas Data Frame\n",
    "purchase_data = pd.read_csv(file)"
   ]
  },
  {
   "cell_type": "code",
   "execution_count": null,
   "metadata": {},
   "outputs": [],
   "source": [
    "purchase_data.head()"
   ]
  },
  {
   "cell_type": "code",
   "execution_count": null,
   "metadata": {},
   "outputs": [],
   "source": [
    "total_players = purchase_data[\"SN\"].nunique()\n",
    "print(total_players)"
   ]
  },
  {
   "cell_type": "code",
   "execution_count": null,
   "metadata": {},
   "outputs": [],
   "source": [
    "total_players_df = pd.DataFrame([[total_players]],columns=[\"Total Players\"])\n",
    "total_players_df"
   ]
  },
  {
   "cell_type": "code",
   "execution_count": null,
   "metadata": {},
   "outputs": [],
   "source": [
    "unique_items = purchase_data[\"Item ID\"].nunique()\n",
    "print(unique_items)\n",
    "\n",
    "average_price = purchase_data[\"Price\"].mean()\n",
    "print(average_price)\n",
    "\n",
    "total_purchases = purchase_data[\"Purchase ID\"].count()\n",
    "print(total_purchases)\n",
    "\n",
    "total_revenue = purchase_data[\"Price\"].sum()\n",
    "print(total_revenue)"
   ]
  },
  {
   "cell_type": "code",
   "execution_count": null,
   "metadata": {},
   "outputs": [],
   "source": [
    "purchasing_analysis = pd.DataFrame([[unique_items, average_price, total_purchases, total_revenue]],columns=[\"Number of Unique Items\",\"Average Price\",\"Total Purchases\",\"Total Revenue\"])\n",
    "purchasing_analysis.round(2)"
   ]
  },
  {
   "cell_type": "code",
   "execution_count": null,
   "metadata": {
    "scrolled": true
   },
   "outputs": [],
   "source": [
    "grouped_by_gender = purchase_data.groupby([\"Gender\"])\n",
    "\n",
    "gender_price = grouped_by_gender.sum()\n"
   ]
  },
  {
   "cell_type": "code",
   "execution_count": null,
   "metadata": {},
   "outputs": [],
   "source": [
    "unique_gender_count = grouped_by_gender[\"SN\"].nunique()\n",
    "unique_gender_count.head()"
   ]
  },
  {
   "cell_type": "code",
   "execution_count": null,
   "metadata": {},
   "outputs": [],
   "source": [
    "gender_percentage = unique_gender_count / total_players * 100\n",
    "gender_percentage.head()\n"
   ]
  },
  {
   "cell_type": "code",
   "execution_count": null,
   "metadata": {},
   "outputs": [],
   "source": [
    "gender_summary = pd.DataFrame({\"Total Count\": unique_gender_count,\n",
    "                                 \"Percentage of Players\": gender_percentage})\n",
    "\n",
    "gender_summary.head()"
   ]
  },
  {
   "cell_type": "code",
   "execution_count": null,
   "metadata": {},
   "outputs": [],
   "source": []
  },
  {
   "cell_type": "code",
   "execution_count": null,
   "metadata": {},
   "outputs": [],
   "source": []
  },
  {
   "cell_type": "code",
   "execution_count": null,
   "metadata": {},
   "outputs": [],
   "source": []
  }
 ],
 "metadata": {
  "kernelspec": {
   "display_name": "Python 3",
   "language": "python",
   "name": "python3"
  },
  "language_info": {
   "codemirror_mode": {
    "name": "ipython",
    "version": 3
   },
   "file_extension": ".py",
   "mimetype": "text/x-python",
   "name": "python",
   "nbconvert_exporter": "python",
   "pygments_lexer": "ipython3",
   "version": "3.8.5"
  }
 },
 "nbformat": 4,
 "nbformat_minor": 4
}
